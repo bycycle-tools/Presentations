{
 "cells": [
  {
   "cell_type": "code",
   "execution_count": null,
   "metadata": {
    "slideshow": {
     "slide_type": "skip"
    }
   },
   "outputs": [],
   "source": [
    "import numpy as np\n",
    "import pandas as pd\n",
    "import matplotlib.pyplot as plt\n",
    "import seaborn as sns\n",
    "%matplotlib inline\n",
    "\n",
    "# For pandas visualization\n",
    "pd.options.display.max_columns=30\n",
    "styles = [dict(selector=\"th\", props=[(\"font-size\", \"200%\"),(\"text-align\", \"center\")]),\n",
    "          dict(selector=\"td\", props=[(\"font-size\", \"150%\")])]\n",
    "feats_viz = ['sample_peak', 'volt_amp', 'period', 'time_rdsym', 'time_ptsym', 'is_burst']\n",
    "names = ['sine', 'sawtooth', 'burst', 'nonstationary']\n",
    "colors = sns.color_palette()[:len(names)]\n",
    "\n",
    "burst_kwargs = {'amplitude_fraction_threshold': .3,\n",
    "                'amplitude_consistency_threshold': .4,\n",
    "                'period_consistency_threshold': .5,\n",
    "                'monotonicity_threshold': .8,\n",
    "                'N_cycles_min': 3}\n",
    "\n",
    "np.random.seed(0)\n",
    "\n",
    "import warnings\n",
    "warnings.filterwarnings('ignore')\n",
    "\n",
    "\n",
    "def plot_psds(f, psd_white, psd_delta):\n",
    "    plt.figure(figsize=(5,5))\n",
    "    plt.semilogy(f, psd_white, 'k', label='White noise', linewidth=3, alpha=.8)\n",
    "    plt.semilogy(f, psd_delta, 'r', label='Delta function', linewidth=3, alpha=.8)\n",
    "    plt.xlabel('Frequency', size=20)\n",
    "    plt.ylabel('Power', size=20)\n",
    "    plt.xticks([])\n",
    "    plt.yticks([])\n",
    "    plt.xlim((1, 40))\n",
    "    plt.ylim((10**-6, 10))\n",
    "    plt.legend(fontsize=20)\n",
    "    plt.show()\n",
    "    \n",
    "    \n",
    "def plot_signals(Fs, white_noise, delta_fn):\n",
    "    t = np.arange(0, len(white_noise)/Fs, 1/Fs)\n",
    "    \n",
    "    plt.figure(figsize=(10,5))\n",
    "    plt.subplot(2,1,1)\n",
    "    plt.plot(t, white_noise, 'k', linewidth=3)\n",
    "    plt.title('White noise', size=20)\n",
    "    plt.xticks([])\n",
    "    plt.yticks([])\n",
    "    \n",
    "    plt.subplot(2,1,2)\n",
    "    plt.plot(t, delta_fn, 'r', linewidth=3)\n",
    "    plt.title('Delta function', size=20)\n",
    "    plt.xticks([])\n",
    "    plt.yticks([])\n",
    "    plt.show()\n",
    "\n",
    "\n",
    "def simulate_oscillators(freq, T, Fs):\n",
    "    from neurodsp import sim_bursty_oscillator\n",
    "    np.random.seed(1)\n",
    "    xs = [0] * 4\n",
    "    xs[0] = sim_bursty_oscillator(freq, T, Fs, prob_enter_burst=1, prob_leave_burst=0,\n",
    "                                  cycle_features={'amp_mean': 1, 'amp_std': 0, 'amp_burst_std': 0,\n",
    "                                                  'period_std': 0, 'period_burst_std': 0,\n",
    "                                                  'rdsym_mean': .5, 'rdsym_std': 0, 'rdsym_burst_std': 0})\n",
    "    xs[1] = sim_bursty_oscillator(freq, T, Fs, prob_enter_burst=1, prob_leave_burst=0,\n",
    "                                  cycle_features={'amp_mean': 1, 'amp_std': 0, 'amp_burst_std': 0,\n",
    "                                                  'period_std': 0, 'period_burst_std': 0,\n",
    "                                                  'rdsym_mean': .2, 'rdsym_std': 0, 'rdsym_burst_std': 0})\n",
    "    xs[2] = sim_bursty_oscillator(freq, T, Fs, prob_enter_burst=.25, prob_leave_burst=.25,\n",
    "                                  cycle_features={'amp_mean': 1.5, 'amp_std': 0, 'amp_burst_std': 0,\n",
    "                                                  'period_std': 0, 'period_burst_std': 0,\n",
    "                                                  'rdsym_mean': .5, 'rdsym_std': 0, 'rdsym_burst_std': 0})\n",
    "    xs[3] = sim_bursty_oscillator(freq, T, Fs, prob_enter_burst=1, prob_leave_burst=0,\n",
    "                                  cycle_features={'amp_mean': 1.3, 'amp_std': .6, 'amp_burst_std': 0,\n",
    "                                                  'period_std': 20, 'period_burst_std': 0,\n",
    "                                                  'rdsym_mean': .5, 'rdsym_std': .12, 'rdsym_burst_std': 0})\n",
    "    for x in xs:\n",
    "        x += np.random.randn(len(x))*.001\n",
    "    return xs\n",
    "\n",
    "\n",
    "def cycle_by_cycle_quartet_analysis(xs):\n",
    "    from bycycle.features import compute_features\n",
    "    dfs = []\n",
    "    f_range = (8, 12)\n",
    "    ampthresh = (.5, 1)\n",
    "    for i, (x_temp, name) in enumerate(zip(xs, names)):\n",
    "        df = compute_features(x_temp, 1000, f_range, center_extrema='T',\n",
    "                              burst_detection_method = 'amp',\n",
    "                              burst_detection_kwargs = {'amp_threshes': ampthresh,\n",
    "\n",
    "                                                        'filter_kwargs': {'N_seconds': .3}})\n",
    "        df['signal'] = name\n",
    "        dfs.append(df)\n",
    "    df = pd.concat(dfs).reset_index(drop=True)\n",
    "\n",
    "    df_plt1 = df[df['is_burst']][['time_rdsym', 'volt_amp', 'period', 'signal']].set_index(\n",
    "        'signal').stack().reset_index().rename(\n",
    "        columns={'level_1': 'feature', 0:'value'})\n",
    "    df_plt2 = df[['is_burst', 'signal']].set_index(\n",
    "        'signal').stack().reset_index().rename(\n",
    "        columns={'level_1': 'feature', 0:'value'})\n",
    "    df_plt = pd.concat([df_plt1, df_plt2])\n",
    "\n",
    "    df_plt.replace({'time_rdsym': 'rise-decay symmetry',\n",
    "                    'is_burst': 'oscillation presence',\n",
    "                    'volt_amp': 'amplitude'}, inplace=True)\n",
    "\n",
    "    g = sns.catplot(x='value', y='signal', col='feature', ci='sd',\n",
    "                    sharex=False, hue_order=names,\n",
    "                    col_order= ['oscillation presence', 'amplitude', 'period', 'rise-decay symmetry'],\n",
    "                    data=df_plt, kind='bar')\n",
    "\n",
    "    (g.set_axis_labels(\"\", \"\")\n",
    "     .set_yticklabels(names, size=20)\n",
    "     .set_titles(\"{col_name}\", size=20)\n",
    "     .set_xticklabels([])\n",
    "     .despine(left=True, right=True, bottom=True))\n",
    "\n",
    "\n",
    "def plot_oscillators(xs):\n",
    "    plt.figure(figsize=(12,6))\n",
    "    for i, color, name in zip(range(len(xs)), colors, names):\n",
    "        plt.subplot(4,1,i+1)\n",
    "        plt.plot(xs[i], color=color, linewidth=3)\n",
    "        plt.ylim((-4.2, 4.2))\n",
    "        plt.xlim((500, 2500))\n",
    "        plt.xticks([])\n",
    "        plt.yticks([]) \n",
    "        plt.ylabel(name, color=color, size=15)\n",
    "        \n",
    "\n",
    "def plot_oscillator_spectra(xs):\n",
    "    psds = [0] * 4\n",
    "    for i, x in enumerate(xs):\n",
    "        f, psds[i] = spectral.psd(xs[i], Fs=1000)\n",
    "\n",
    "    flims = (0, 30)\n",
    "    fidxs = np.logical_and(f >= flims[0], f < flims[1])\n",
    "    plt.figure(figsize=(6,6))\n",
    "    for psd, name, color in zip(psds, names, colors):\n",
    "        plt.semilogy(f[fidxs], psd[fidxs], linewidth=3, label=name, color=color)\n",
    "    plt.legend(fontsize=15, loc='center left', bbox_to_anchor=(1, 0.5))\n",
    "    plt.fill_between(f[fidxs], 10**-100, 10*100,\n",
    "                     where=np.logical_and(f[fidxs]>=8, f[fidxs]<=12),\n",
    "                     interpolate=True, facecolor='black', alpha=0.2)\n",
    "    plt.yticks([])\n",
    "    plt.ylim((10**-10, 10**0))\n",
    "    plt.ylabel('Power', size=20)\n",
    "    plt.xlabel('Frequency (Hz)', size=20)\n",
    "    plt.xticks([0, 10, 20, 30], size=20)\n",
    "    plt.xlim((0, 30))\n",
    "    \n",
    "    \n",
    "def plot_signals_filt(x_raw, x):\n",
    "    plt.figure(figsize=(12,3))\n",
    "    plt.plot(x_raw, 'k', label='raw', linewidth=3)\n",
    "    plt.plot(x+1, 'r', label='lowpass', linewidth=3)\n",
    "    plt.xticks([])\n",
    "    plt.yticks([])\n",
    "    plt.legend(fontsize=15, loc='center left', bbox_to_anchor=(1, 0.5))\n",
    "    plt.xlim(5900, 7200)\n",
    "\n",
    "\n",
    "def plot_power_comparison():\n",
    "    plt.figure(figsize=(5,5))\n",
    "    df_plt = pd.DataFrame({'name':names, 'power':[1]*len(names)})\n",
    "    sns.barplot(x='power', y='name', data=df_plt)\n",
    "    plt.xlim((0,2))\n",
    "    plt.xticks([])\n",
    "    plt.yticks(size=20)\n",
    "    plt.xlabel('')\n",
    "    plt.ylabel('')\n",
    "    plt.title('Oscillatory power', size=20)\n"
   ]
  },
  {
   "cell_type": "markdown",
   "metadata": {
    "slideshow": {
     "slide_type": "notes"
    }
   },
   "source": [
    "Exporting to html: `jupyter nbconvert --to slides SfN\\ nanosymposium\\ presentation.ipynb --post serve`\n",
    "\n",
    "Exporting to pdf instructions: https://github.com/damianavila/RISE/issues/127#issuecomment-159355863"
   ]
  },
  {
   "cell_type": "markdown",
   "metadata": {
    "slideshow": {
     "slide_type": "slide"
    }
   },
   "source": [
    "# Cycle-by-cycle analysis of neural oscillations\n",
    "### Python package: `bycycle`\n",
    "#### Scott Cole\n",
    "#### Voytek Lab\n",
    "#### SfN 2018\n"
   ]
  },
  {
   "cell_type": "code",
   "execution_count": null,
   "metadata": {
    "scrolled": false,
    "slideshow": {
     "slide_type": "slide"
    }
   },
   "outputs": [],
   "source": [
    "Fs = 100\n",
    "white_noise = np.random.randn(1000)\n",
    "delta_fn = np.array([0 if i != 500 else\n",
    "    np.sqrt(np.sum(white_noise**2) / 2) for i in range(1000)])\n",
    "\n",
    "plot_signals(Fs, white_noise, delta_fn)"
   ]
  },
  {
   "cell_type": "markdown",
   "metadata": {
    "slideshow": {
     "slide_type": "slide"
    }
   },
   "source": [
    "## Ambiguous spectral representations"
   ]
  },
  {
   "cell_type": "code",
   "execution_count": null,
   "metadata": {
    "scrolled": true,
    "slideshow": {
     "slide_type": "-"
    }
   },
   "outputs": [],
   "source": [
    "from neurodsp import spectral\n",
    "f, psd_white = spectral.compute_spectrum(white_noise, Fs)\n",
    "_, psd_delta = spectral.compute_spectrum(delta_fn, Fs)\n",
    "\n",
    "plot_psds(f, psd_white, psd_delta)"
   ]
  },
  {
   "cell_type": "markdown",
   "metadata": {
    "slideshow": {
     "slide_type": "slide"
    }
   },
   "source": [
    "## Ambiguous spectral representations: oscillations\n",
    "\n",
    "<center>\n",
    "\n",
    "<img src=\"img/quartet.png\" width=\"800\" align=\"center\">\n",
    "</center>"
   ]
  },
  {
   "cell_type": "markdown",
   "metadata": {
    "slideshow": {
     "slide_type": "slide"
    }
   },
   "source": [
    "## Ambiguous spectral representations: oscillations\n",
    "\n",
    "<center>\n",
    "\n",
    "<img src=\"img/quartet_and_powers.png\" width=\"1200\" align=\"center\">\n",
    "</center>"
   ]
  },
  {
   "cell_type": "markdown",
   "metadata": {
    "slideshow": {
     "slide_type": "slide"
    }
   },
   "source": [
    "## Cycle-by-cycle parametrization\n",
    "\n",
    "<center>\n",
    "\n",
    "<img src=\"img/quartet_sawtooth.png\" width=\"1000\" align=\"center\">\n",
    "</center>"
   ]
  },
  {
   "cell_type": "markdown",
   "metadata": {
    "slideshow": {
     "slide_type": "slide"
    }
   },
   "source": [
    "## Cycle-by-cycle parametrization\n",
    "\n",
    "<center>\n",
    "\n",
    "<img src=\"img/quartet_burst.png\" width=\"1000\" align=\"center\">\n",
    "</center>"
   ]
  },
  {
   "cell_type": "markdown",
   "metadata": {
    "slideshow": {
     "slide_type": "slide"
    }
   },
   "source": [
    "## Cycle-by-cycle parametrization\n",
    "\n",
    "<center>\n",
    "\n",
    "<img src=\"img/quartet_nonstationary.png\" width=\"1000\" align=\"center\">\n",
    "</center>"
   ]
  },
  {
   "cell_type": "code",
   "execution_count": null,
   "metadata": {
    "scrolled": true,
    "slideshow": {
     "slide_type": "skip"
    }
   },
   "outputs": [],
   "source": [
    "# xs = simulate_oscillators(freq=10, T=10, Fs=1000)\n",
    "# plot_oscillators(xs)\n",
    "# plot_oscillator_spectra(xs)\n",
    "# plot_power_comparison()\n",
    "# cycle_by_cycle_quartet_analysis(xs)"
   ]
  },
  {
   "cell_type": "markdown",
   "metadata": {
    "slideshow": {
     "slide_type": "slide"
    }
   },
   "source": [
    "## Cycle-by-cycle analysis algorithm:"
   ]
  },
  {
   "cell_type": "markdown",
   "metadata": {
    "slideshow": {
     "slide_type": "fragment"
    }
   },
   "source": [
    "### 1. Segmentation\n",
    "\n",
    "<center>\n",
    "\n",
    "<img src=\"img/segmentation.png\" width=\"1200\" align=\"center\">\n",
    "</center>"
   ]
  },
  {
   "cell_type": "markdown",
   "metadata": {
    "slideshow": {
     "slide_type": "slide"
    }
   },
   "source": [
    "## Cycle-by-cycle analysis algorithm:\n",
    "### 2. Cycle features\n",
    "\n",
    "<center>\n",
    "\n",
    "<img src=\"img/features_schematic.png\" width=\"800\" align=\"center\">\n",
    "</center>"
   ]
  },
  {
   "cell_type": "markdown",
   "metadata": {
    "slideshow": {
     "slide_type": "slide"
    }
   },
   "source": [
    "## Cycle-by-cycle analysis algorithm\n",
    "### 3. Oscillation detection"
   ]
  },
  {
   "cell_type": "markdown",
   "metadata": {
    "slideshow": {
     "slide_type": "fragment"
    }
   },
   "source": [
    "<center>\n",
    "\n",
    "<img src=\"img/oscillation_detection.png\" width=\"1200\" align=\"center\">\n",
    "</center>"
   ]
  },
  {
   "cell_type": "markdown",
   "metadata": {
    "slideshow": {
     "slide_type": "slide"
    }
   },
   "source": [
    "# Applying `bycycle` to your data"
   ]
  },
  {
   "cell_type": "code",
   "execution_count": null,
   "metadata": {
    "slideshow": {
     "slide_type": "slide"
    }
   },
   "outputs": [],
   "source": [
    "# Load data\n",
    "x_raw = np.load('../tutorials/data/sim_bursting.npy')\n",
    "Fs = 1000\n",
    "f_range = (8, 12)"
   ]
  },
  {
   "cell_type": "markdown",
   "metadata": {
    "slideshow": {
     "slide_type": "slide"
    }
   },
   "source": [
    "## `bycycle`: preprocessing"
   ]
  },
  {
   "cell_type": "code",
   "execution_count": null,
   "metadata": {
    "scrolled": true,
    "slideshow": {
     "slide_type": "-"
    }
   },
   "outputs": [],
   "source": [
    "# Apply lowpass filter for extrema localization\n",
    "from neurodsp.filt import filter_signal\n",
    "x = filter_signal(x_raw, Fs, 'lowpass', 30, n_seconds=.2, remove_edge_artifacts=False)\n",
    "\n",
    "plot_signals_filt(x_raw, x)"
   ]
  },
  {
   "cell_type": "markdown",
   "metadata": {
    "slideshow": {
     "slide_type": "slide"
    }
   },
   "source": [
    "## `bycycle`: cycle feature computation"
   ]
  },
  {
   "cell_type": "code",
   "execution_count": null,
   "metadata": {
    "slideshow": {
     "slide_type": "-"
    }
   },
   "outputs": [],
   "source": [
    "from bycycle.features import compute_features\n",
    "df = compute_features(x, Fs, f_range, burst_detection_kwargs=burst_kwargs)\n",
    "df[feats_viz].head().style.set_table_styles(styles)"
   ]
  },
  {
   "cell_type": "markdown",
   "metadata": {
    "slideshow": {
     "slide_type": "slide"
    }
   },
   "source": [
    "## `bycycle`: oscillation detection"
   ]
  },
  {
   "cell_type": "code",
   "execution_count": null,
   "metadata": {
    "slideshow": {
     "slide_type": "-"
    }
   },
   "outputs": [],
   "source": [
    "from bycycle.burst import plot_burst_detect_params\n",
    "plot_burst_detect_params(x, Fs, df, burst_kwargs, plot_only_result=True)"
   ]
  },
  {
   "cell_type": "markdown",
   "metadata": {
    "slideshow": {
     "slide_type": "slide"
    }
   },
   "source": [
    "# Why use `bycycle`?"
   ]
  },
  {
   "cell_type": "markdown",
   "metadata": {
    "slideshow": {
     "slide_type": "slide"
    }
   },
   "source": [
    "### 1. Explicitly parametrizes waveform shape and oscillation presence"
   ]
  },
  {
   "cell_type": "markdown",
   "metadata": {
    "slideshow": {
     "slide_type": "fragment"
    }
   },
   "source": [
    "\"instantaneous\" amplitude and frequency **confounds with** oscillation presence\n",
    "\n",
    "(Cole & Voytek, *bioRxiv*, 2018a)"
   ]
  },
  {
   "cell_type": "markdown",
   "metadata": {
    "slideshow": {
     "slide_type": "fragment"
    }
   },
   "source": [
    "Phase-amplitude coupling **confounds with** waveform shape\n",
    "\n",
    "(Cole et al., *J Neuro*, 2017)"
   ]
  },
  {
   "cell_type": "markdown",
   "metadata": {
    "slideshow": {
     "slide_type": "slide"
    }
   },
   "source": [
    "### 2. New analysis possibilities\n",
    "### (Cole & Voytek, *bioRxiv*, 2018b)"
   ]
  },
  {
   "cell_type": "markdown",
   "metadata": {
    "slideshow": {
     "slide_type": "fragment"
    }
   },
   "source": [
    "* Theta asymmetry ~ burst duration"
   ]
  },
  {
   "cell_type": "markdown",
   "metadata": {
    "slideshow": {
     "slide_type": "fragment"
    }
   },
   "source": [
    "* Theta asymmetry ~ CA1 neuron firing patterns"
   ]
  },
  {
   "cell_type": "markdown",
   "metadata": {
    "slideshow": {
     "slide_type": "fragment"
    }
   },
   "source": [
    "* Theta presence ~ CA1 neuron firing patterns"
   ]
  },
  {
   "cell_type": "markdown",
   "metadata": {
    "slideshow": {
     "slide_type": "slide"
    }
   },
   "source": [
    "![](img/acknowledge.png)"
   ]
  },
  {
   "cell_type": "code",
   "execution_count": null,
   "metadata": {
    "slideshow": {
     "slide_type": "skip"
    }
   },
   "outputs": [],
   "source": []
  }
 ],
 "metadata": {
  "celltoolbar": "Slideshow",
  "kernelspec": {
   "display_name": "Python 3",
   "language": "python",
   "name": "python3"
  },
  "language_info": {
   "codemirror_mode": {
    "name": "ipython",
    "version": 3
   },
   "file_extension": ".py",
   "mimetype": "text/x-python",
   "name": "python",
   "nbconvert_exporter": "python",
   "pygments_lexer": "ipython3",
   "version": "3.6.4"
  }
 },
 "nbformat": 4,
 "nbformat_minor": 2
}
